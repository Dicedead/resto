{
 "cells": [
  {
   "cell_type": "code",
   "execution_count": 13,
   "metadata": {
    "collapsed": true,
    "ExecuteTime": {
     "start_time": "2023-04-27T11:40:28.851662Z",
     "end_time": "2023-04-27T11:40:28.857606Z"
    }
   },
   "outputs": [],
   "source": [
    "import pandas as pd\n",
    "import matplotlib.pyplot as plt\n",
    "import seaborn as sns\n",
    "import numpy as np\n",
    "\n",
    "from flep_analysis_tools import *"
   ]
  },
  {
   "cell_type": "code",
   "execution_count": 14,
   "outputs": [
    {
     "name": "stdout",
     "output_type": "stream",
     "text": [
      "<class 'pandas.core.frame.DataFrame'>\n",
      "RangeIndex: 2697 entries, 0 to 2696\n",
      "Data columns (total 6 columns):\n",
      " #   Column      Non-Null Count  Dtype         \n",
      "---  ------      --------------  -----         \n",
      " 0   Date        2697 non-null   datetime64[ns]\n",
      " 1   Name        2337 non-null   object        \n",
      " 2   Restaurant  2697 non-null   int64         \n",
      " 3   STUDENT     2307 non-null   float64       \n",
      " 4   INT         2697 non-null   float64       \n",
      " 5   EXT         2463 non-null   float64       \n",
      "dtypes: datetime64[ns](1), float64(3), int64(1), object(1)\n",
      "memory usage: 126.6+ KB\n",
      "None\n"
     ]
    }
   ],
   "source": [
    "ethz_df = pd.read_csv(\"../../data/ethz/ETH_menus.csv\")\n",
    "ethz_df = ethz_df.replace(\"\", np.NAN)\n",
    "ethz_df[\"Date\"] = pd.to_datetime(ethz_df[\"Date\"], yearfirst=True, errors=\"ignore\")\n",
    "print(ethz_df.info())"
   ],
   "metadata": {
    "collapsed": false,
    "ExecuteTime": {
     "start_time": "2023-04-27T11:40:29.763785Z",
     "end_time": "2023-04-27T11:40:29.786388Z"
    }
   }
  },
  {
   "cell_type": "code",
   "execution_count": 15,
   "outputs": [],
   "source": [
    "restos_ethz_df = get_mean_all_restos_by_day(ethz_df, filter_student_menus=False, str_student_price=\"STUDENT\", str_date_col=\"Date\", col_list=[\"Date\", \"STUDENT\", \"INT\", \"EXT\"])"
   ],
   "metadata": {
    "collapsed": false,
    "ExecuteTime": {
     "start_time": "2023-04-27T11:40:30.592336Z",
     "end_time": "2023-04-27T11:40:30.601174Z"
    }
   }
  },
  {
   "cell_type": "code",
   "execution_count": 16,
   "outputs": [
    {
     "data": {
      "text/plain": "<Axes: xlabel='Date', ylabel='STUDENT'>"
     },
     "execution_count": 16,
     "metadata": {},
     "output_type": "execute_result"
    },
    {
     "data": {
      "text/plain": "<Figure size 640x480 with 1 Axes>",
      "image/png": "[encoded data removed]"
     },
     "metadata": {},
     "output_type": "display_data"
    }
   ],
   "source": [
    "sns.histplot(restos_ethz_df, x=\"Date\", y=\"STUDENT\")"
   ],
   "metadata": {
    "collapsed": false,
    "ExecuteTime": {
     "start_time": "2023-04-27T11:41:29.536517Z",
     "end_time": "2023-04-27T11:41:29.790849Z"
    }
   }
  },
  {
   "cell_type": "code",
   "execution_count": null,
   "outputs": [],
   "source": [
    "plt.plot()"
   ],
   "metadata": {
    "collapsed": false
   }
  }
 ],
 "metadata": {
  "kernelspec": {
   "display_name": "Python 3",
   "language": "python",
   "name": "python3"
  },
  "language_info": {
   "codemirror_mode": {
    "name": "ipython",
    "version": 2
   },
   "file_extension": ".py",
   "mimetype": "text/x-python",
   "name": "python",
   "nbconvert_exporter": "python",
   "pygments_lexer": "ipython2",
   "version": "2.7.6"
  }
 },
 "nbformat": 4,
 "nbformat_minor": 0
}
